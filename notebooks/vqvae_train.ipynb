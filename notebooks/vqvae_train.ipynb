{
 "cells": [
  {
   "cell_type": "markdown",
   "metadata": {},
   "source": [
    "# VQ-VAE Training"
   ]
  },
  {
   "cell_type": "code",
   "execution_count": null,
   "metadata": {},
   "outputs": [],
   "source": [
    "%load_ext autoreload\n",
    "%autoreload 2\n",
    "%matplotlib inline"
   ]
  },
  {
   "cell_type": "code",
   "execution_count": null,
   "metadata": {},
   "outputs": [],
   "source": [
    "import torch\n",
    "from torchvision.datasets import MNIST\n",
    "import torchvision.transforms as transforms\n",
    "from torch.utils.data import DataLoader\n",
    "from livelossplot import PlotLosses\n",
    "from tqdm import tqdm\n",
    "from models.foster import VectorQuantizedVariationalAutoencoder"
   ]
  },
  {
   "cell_type": "code",
   "execution_count": null,
   "metadata": {},
   "outputs": [],
   "source": [
    "BATCH_SIZE = 512\n",
    "LEAKY_RELU_NEGATIVE_SLOPE = 0.1\n",
    "DROPOUT_P = 0.25\n",
    "Z_DIM = 2\n",
    "LEARNING_RATE = 0.01\n",
    "NUM_EPOCHS = 200\n",
    "\n",
    "NUM_EMBEDDINGS = 20\n",
    "COMMITMENT_COST = 0.25\n",
    "DECAY = 0.99"
   ]
  },
  {
   "cell_type": "code",
   "execution_count": null,
   "metadata": {},
   "outputs": [],
   "source": [
    "device = torch.device('cuda' if torch.cuda.is_available() else 'cpu')"
   ]
  },
  {
   "cell_type": "code",
   "execution_count": null,
   "metadata": {},
   "outputs": [],
   "source": [
    "train_dataset = MNIST(root='data/', train=True, transform=transforms.ToTensor(), download=True)\n",
    "validation_dataset = MNIST(root='data/', train=False, transform=transforms.ToTensor(), download=True)"
   ]
  },
  {
   "cell_type": "code",
   "execution_count": null,
   "metadata": {},
   "outputs": [],
   "source": [
    "dataloaders = {'train': DataLoader(train_dataset, batch_size=BATCH_SIZE, shuffle=True),\n",
    "               'validation': DataLoader(validation_dataset, batch_size=BATCH_SIZE, shuffle=True)}"
   ]
  },
  {
   "cell_type": "code",
   "execution_count": null,
   "metadata": {},
   "outputs": [],
   "source": [
    "initialise_embedding_vectors = \"normal\" # \"uniform\" or \"normal\""
   ]
  },
  {
   "cell_type": "code",
   "execution_count": null,
   "metadata": {},
   "outputs": [],
   "source": [
    "model = VectorQuantizedVariationalAutoencoder(num_embeddings=NUM_EMBEDDINGS,\n",
    "                                              embedding_dim=Z_DIM,\n",
    "                                              commitment_cost=COMMITMENT_COST,\n",
    "                                              decay=DECAY,\n",
    "                                              leaky_relu_negative_slope=LEAKY_RELU_NEGATIVE_SLOPE,\n",
    "                                              dropout_p=DROPOUT_P)"
   ]
  },
  {
   "cell_type": "code",
   "execution_count": null,
   "metadata": {},
   "outputs": [],
   "source": [
    "initialise_from = \"vae\" # \"none\" or \"ae\" or \"vae\"\n",
    "\n",
    "if initialise_from == \"ae\":\n",
    "    model.encoder = torch.load('checkpoints/ae_encoder_only.pt')\n",
    "    model.decoder = torch.load('checkpoints/ae_decoder_only.pt')\n",
    "if initialise_from == \"vae\":\n",
    "    model.encoder = torch.load('checkpoints/vae_mu_encoder_only.pt')\n",
    "    model.decoder = torch.load('vae_decoder_only.pt')"
   ]
  },
  {
   "cell_type": "code",
   "execution_count": null,
   "metadata": {},
   "outputs": [],
   "source": [
    "model = model.to(device)\n",
    "model(torch.rand(BATCH_SIZE, 1, 28, 28).to(device)) # test forward pass\n",
    "model.summary(input_data=torch.rand((BATCH_SIZE, 1, 28, 28))) # summarize"
   ]
  },
  {
   "cell_type": "code",
   "execution_count": null,
   "metadata": {},
   "outputs": [],
   "source": [
    "criterion = torch.nn.MSELoss()\n",
    "optimizer = torch.optim.Adam(model.parameters(), lr=LEARNING_RATE)\n",
    "#scheduler = torch.optim.lr_scheduler.ExponentialLR(optimizer, gamma=0.9)"
   ]
  },
  {
   "cell_type": "code",
   "execution_count": null,
   "metadata": {},
   "outputs": [],
   "source": [
    "liveloss = PlotLosses()\n",
    "logs = {}\n",
    "for epoch in tqdm(range(NUM_EPOCHS)):\n",
    "    for phase in ['train', 'validation']:\n",
    "        model.train() if phase == 'train' else model.eval()\n",
    "        running_vq_loss = 0.0\n",
    "        running_recon_loss = 0.0\n",
    "        running_loss = 0.0\n",
    "        running_perplexity = 0.0\n",
    "        for inputs, labels in dataloaders[phase]:\n",
    "            inputs = inputs.to(device)\n",
    "            outputs, vq_loss, perplexity = model(inputs)\n",
    "            recon_loss = criterion(inputs, outputs)\n",
    "            loss = recon_loss + vq_loss\n",
    "            if phase == 'train':\n",
    "                optimizer.zero_grad()\n",
    "                loss.backward()\n",
    "                optimizer.step()\n",
    "            running_recon_loss += recon_loss.detach() * inputs.size(0)\n",
    "            running_vq_loss += vq_loss.detach() * inputs.size(0)\n",
    "            running_loss += loss.detach() * inputs.size(0)\n",
    "            running_perplexity += perplexity.detach() * inputs.size(0)\n",
    "        epoch_recon_loss = running_recon_loss / len(dataloaders[phase].dataset)\n",
    "        epoch_vq_loss = running_vq_loss / len(dataloaders[phase].dataset)\n",
    "        epoch_loss = running_loss / len(dataloaders[phase].dataset)\n",
    "        epoch_perplexity = running_perplexity / len(dataloaders[phase].dataset)\n",
    "        prefix = 'val_' if phase == 'validation' else ''\n",
    "        logs[prefix + 'recon_loss'] = epoch_recon_loss.item()\n",
    "        logs[prefix + 'vq_loss'] = epoch_vq_loss.item()\n",
    "        logs[prefix + 'loss'] = epoch_loss.item()\n",
    "        logs[prefix + 'perplexity'] = epoch_perplexity.item()\n",
    "    if epoch > -1:\n",
    "        liveloss.update(logs)\n",
    "        liveloss.send()\n",
    "    torch.save(model, f'checkpoints/vqvae_from_{initialise_from}_using_{initialise_embedding_vectors}_epoch_{epoch}.pt')\n",
    "torch.save(model, f'checkpoints/vqvae_from_{initialise_from}_using_{initialise_embedding_vectors}.pt')"
   ]
  },
  {
   "cell_type": "code",
   "execution_count": null,
   "metadata": {},
   "outputs": [],
   "source": []
  },
  {
   "cell_type": "code",
   "execution_count": null,
   "metadata": {},
   "outputs": [],
   "source": []
  },
  {
   "cell_type": "code",
   "execution_count": null,
   "metadata": {},
   "outputs": [],
   "source": []
  },
  {
   "cell_type": "code",
   "execution_count": null,
   "metadata": {},
   "outputs": [],
   "source": []
  },
  {
   "cell_type": "code",
   "execution_count": null,
   "metadata": {},
   "outputs": [],
   "source": []
  },
  {
   "cell_type": "code",
   "execution_count": null,
   "metadata": {},
   "outputs": [],
   "source": []
  },
  {
   "cell_type": "code",
   "execution_count": null,
   "metadata": {},
   "outputs": [],
   "source": []
  },
  {
   "cell_type": "code",
   "execution_count": null,
   "metadata": {},
   "outputs": [],
   "source": []
  },
  {
   "cell_type": "code",
   "execution_count": null,
   "metadata": {},
   "outputs": [],
   "source": []
  },
  {
   "cell_type": "code",
   "execution_count": null,
   "metadata": {},
   "outputs": [],
   "source": []
  },
  {
   "cell_type": "code",
   "execution_count": null,
   "metadata": {},
   "outputs": [],
   "source": []
  },
  {
   "cell_type": "code",
   "execution_count": null,
   "metadata": {},
   "outputs": [],
   "source": []
  },
  {
   "cell_type": "code",
   "execution_count": null,
   "metadata": {},
   "outputs": [],
   "source": []
  }
 ],
 "metadata": {
  "kernelspec": {
   "display_name": "Python 3 (ipykernel)",
   "language": "python",
   "name": "python3"
  },
  "language_info": {
   "codemirror_mode": {
    "name": "ipython",
    "version": 3
   },
   "file_extension": ".py",
   "mimetype": "text/x-python",
   "name": "python",
   "nbconvert_exporter": "python",
   "pygments_lexer": "ipython3",
   "version": "3.10.9"
  }
 },
 "nbformat": 4,
 "nbformat_minor": 1
}
