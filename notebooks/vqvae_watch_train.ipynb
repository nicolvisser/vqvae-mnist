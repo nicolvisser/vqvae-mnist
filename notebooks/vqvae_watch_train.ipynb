{
 "cells": [
  {
   "cell_type": "code",
   "execution_count": null,
   "metadata": {},
   "outputs": [],
   "source": [
    "%load_ext autoreload\n",
    "%autoreload 2"
   ]
  },
  {
   "cell_type": "code",
   "execution_count": null,
   "metadata": {},
   "outputs": [],
   "source": [
    "import torch\n",
    "from torchvision.datasets import MNIST\n",
    "import torchvision.transforms as transforms\n",
    "from torch.utils.data import DataLoader\n",
    "import matplotlib.pyplot as plt\n",
    "from ipywidgets import interact\n",
    "import matplotlib.cm as cm"
   ]
  },
  {
   "cell_type": "code",
   "execution_count": null,
   "metadata": {},
   "outputs": [],
   "source": [
    "BATCH_SIZE = 512\n",
    "Z_DIM = 2\n",
    "NUM_EMBEDDINGS = 20"
   ]
  },
  {
   "cell_type": "code",
   "execution_count": null,
   "metadata": {},
   "outputs": [],
   "source": [
    "device = torch.device('cuda' if torch.cuda.is_available() else 'cpu')"
   ]
  },
  {
   "cell_type": "code",
   "execution_count": null,
   "metadata": {},
   "outputs": [],
   "source": [
    "train_dataset = MNIST(root='data/', train=True, transform=transforms.ToTensor(), download=True)\n",
    "validation_dataset = MNIST(root='data/', train=False, transform=transforms.ToTensor(), download=True)"
   ]
  },
  {
   "cell_type": "code",
   "execution_count": null,
   "metadata": {},
   "outputs": [],
   "source": [
    "dataloaders = {'train': DataLoader(train_dataset, batch_size=BATCH_SIZE, shuffle=True),\n",
    "               'validation': DataLoader(validation_dataset, batch_size=BATCH_SIZE, shuffle=True)}"
   ]
  },
  {
   "cell_type": "code",
   "execution_count": null,
   "metadata": {},
   "outputs": [],
   "source": [
    "initialise_from = \"vae\" # \"none\" or \"ae\" or \"vae\"\n",
    "initialise_embedding_vectors = \"normal\" # \"uniform\" or \"normal\""
   ]
  },
  {
   "cell_type": "code",
   "execution_count": null,
   "metadata": {},
   "outputs": [],
   "source": [
    "@interact(epoch = (0, 200))\n",
    "def xxx(epoch=0):\n",
    "    model = torch.load(f'checkpoints/vqvae_from_{initialise_from}_using_{initialise_embedding_vectors}_epoch_{epoch}.pt')\n",
    "    plt.figure(figsize=(4,8))\n",
    "    plt.subplot(2,1,1)\n",
    "    xs = []\n",
    "    ys = []\n",
    "    colors_true = []\n",
    "    colors_pred = []\n",
    "\n",
    "    for inputs, labels in dataloaders['validation']:\n",
    "        model.eval()\n",
    "        z = model.encoder(inputs.to(device))\n",
    "        quantized, indices, _ = model.vq.encode(z.unsqueeze(0))\n",
    "\n",
    "        z = z.detach().cpu().numpy().squeeze()\n",
    "        indices = indices.detach().cpu().numpy().squeeze()\n",
    "\n",
    "        for (x, y), label, index in zip(z, labels, indices):\n",
    "            xs.append(x)\n",
    "            ys.append(y)\n",
    "            colors_true.append(label / (10 - 1))\n",
    "            colors_pred.append(index / (NUM_EMBEDDINGS - 1))\n",
    "\n",
    "    plt.scatter(xs, ys, c=colors_pred, cmap=cm.rainbow)\n",
    "\n",
    "    for k in range(NUM_EMBEDDINGS):\n",
    "        z = model.vq.embedding[k].cpu().detach().numpy()\n",
    "        x,y = z\n",
    "        plt.scatter(z[0],z[1], color='black');\n",
    "        plt.text(x + 0.05, y + 0.05, k, fontsize=8)\n",
    "        \n",
    "    plt.subplot(2,1,2)\n",
    "    plt.scatter(xs, ys, c=colors_true, cmap=cm.rainbow)\n"
   ]
  },
  {
   "cell_type": "code",
   "execution_count": null,
   "metadata": {},
   "outputs": [],
   "source": []
  }
 ],
 "metadata": {
  "kernelspec": {
   "display_name": "Python 3 (ipykernel)",
   "language": "python",
   "name": "python3"
  },
  "language_info": {
   "codemirror_mode": {
    "name": "ipython",
    "version": 3
   },
   "file_extension": ".py",
   "mimetype": "text/x-python",
   "name": "python",
   "nbconvert_exporter": "python",
   "pygments_lexer": "ipython3",
   "version": "3.10.9"
  }
 },
 "nbformat": 4,
 "nbformat_minor": 1
}
