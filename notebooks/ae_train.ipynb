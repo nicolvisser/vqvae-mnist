{
 "cells": [
  {
   "cell_type": "code",
   "execution_count": null,
   "metadata": {},
   "outputs": [],
   "source": [
    "%load_ext autoreload\n",
    "%autoreload 2"
   ]
  },
  {
   "cell_type": "code",
   "execution_count": null,
   "metadata": {},
   "outputs": [],
   "source": [
    "import torch\n",
    "from torchvision.datasets import MNIST\n",
    "import torchvision.transforms as transforms\n",
    "from torch.utils.data import DataLoader\n",
    "from livelossplot import PlotLosses\n",
    "from models.foster import Autoencoder\n",
    "from tqdm import tqdm"
   ]
  },
  {
   "cell_type": "code",
   "execution_count": null,
   "outputs": [],
   "source": [
    "BATCH_SIZE = 512\n",
    "LEAKY_RELU_NEGATIVE_SLOPE = 0.1\n",
    "DROPOUT_P = 0.25\n",
    "Z_DIM = 2\n",
    "LEARNING_RATE = 0.005\n",
    "NUM_EPOCHS = 200"
   ],
   "metadata": {
    "collapsed": false
   }
  },
  {
   "cell_type": "code",
   "execution_count": null,
   "metadata": {},
   "outputs": [],
   "source": [
    "device = torch.device('cuda' if torch.cuda.is_available() else 'cpu')"
   ]
  },
  {
   "cell_type": "code",
   "execution_count": null,
   "metadata": {},
   "outputs": [],
   "source": [
    "train_dataset = MNIST(root='data/', train=True, transform=transforms.ToTensor(), download=True)\n",
    "validation_dataset = MNIST(root='data/', train=False, transform=transforms.ToTensor(), download=True)"
   ]
  },
  {
   "cell_type": "code",
   "execution_count": null,
   "metadata": {},
   "outputs": [],
   "source": [
    "dataloaders = {'train': DataLoader(train_dataset, batch_size=BATCH_SIZE, shuffle=True),\n",
    "               'validation': DataLoader(validation_dataset, batch_size=BATCH_SIZE, shuffle=True)}"
   ]
  },
  {
   "cell_type": "code",
   "execution_count": null,
   "metadata": {},
   "outputs": [],
   "source": [
    "model = Autoencoder(z_dim=Z_DIM,\n",
    "                    leaky_relu_negative_slope=LEAKY_RELU_NEGATIVE_SLOPE,\n",
    "                    dropout_p=DROPOUT_P)\n",
    "model = model.to(device)\n",
    "model(torch.rand(BATCH_SIZE, 1, 28, 28).to(device)) # test forward pass\n",
    "model.summary(input_data=torch.rand((BATCH_SIZE, 1, 28, 28))) # summarize"
   ]
  },
  {
   "cell_type": "code",
   "execution_count": null,
   "metadata": {},
   "outputs": [],
   "source": [
    "criterion = torch.nn.MSELoss()\n",
    "optimizer = torch.optim.Adam(model.parameters(), lr=LEARNING_RATE)"
   ]
  },
  {
   "cell_type": "code",
   "execution_count": null,
   "metadata": {},
   "outputs": [],
   "source": [
    "liveloss = PlotLosses()\n",
    "logs = {}\n",
    "for epoch in tqdm(range(NUM_EPOCHS)):\n",
    "    for phase in ['train', 'validation']:\n",
    "        model.train() if phase == 'train' else model.eval()\n",
    "        running_loss = 0.0\n",
    "        for inputs, labels in dataloaders[phase]:\n",
    "            inputs = inputs.to(device)\n",
    "            outputs = model(inputs)\n",
    "            loss = criterion(inputs, outputs)\n",
    "            if phase == 'train':\n",
    "                optimizer.zero_grad()\n",
    "                loss.backward()\n",
    "                optimizer.step()\n",
    "            running_loss += loss.detach() * inputs.size(0)\n",
    "        epoch_loss = running_loss / len(dataloaders[phase].dataset)\n",
    "        prefix = 'val_' if phase == 'validation' else ''\n",
    "        logs[prefix + 'recon loss'] = epoch_loss.item()\n",
    "    liveloss.update(logs)\n",
    "    liveloss.send()\n",
    "torch.save(model, 'checkpoints/ae.pt')\n",
    "torch.save(model.encoder, 'checkpoints/ae_encoder_only.pt')\n",
    "torch.save(model.decoder, 'checkpoints/ae_decoder_only.pt')"
   ]
  },
  {
   "cell_type": "code",
   "execution_count": null,
   "outputs": [],
   "source": [],
   "metadata": {
    "collapsed": false
   }
  }
 ],
 "metadata": {
  "kernelspec": {
   "display_name": "Python 3 (ipykernel)",
   "language": "python",
   "name": "python3"
  },
  "language_info": {
   "codemirror_mode": {
    "name": "ipython",
    "version": 3
   },
   "file_extension": ".py",
   "mimetype": "text/x-python",
   "name": "python",
   "nbconvert_exporter": "python",
   "pygments_lexer": "ipython3",
   "version": "3.10.9"
  }
 },
 "nbformat": 4,
 "nbformat_minor": 1
}
