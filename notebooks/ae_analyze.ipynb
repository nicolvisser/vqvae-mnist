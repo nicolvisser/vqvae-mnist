{
 "cells": [
  {
   "cell_type": "code",
   "execution_count": null,
   "metadata": {},
   "outputs": [],
   "source": [
    "%load_ext autoreload\n",
    "%autoreload 2"
   ]
  },
  {
   "cell_type": "code",
   "execution_count": null,
   "metadata": {},
   "outputs": [],
   "source": [
    "import torch\n",
    "from torchvision.datasets import MNIST\n",
    "import torchvision.transforms as transforms\n",
    "from torch.utils.data import DataLoader\n",
    "import matplotlib.pyplot as plt\n",
    "from ipywidgets import interact\n",
    "import numpy as np"
   ]
  },
  {
   "cell_type": "code",
   "execution_count": null,
   "metadata": {},
   "outputs": [],
   "source": [
    "BATCH_SIZE = 512\n",
    "Z_DIM = 2"
   ]
  },
  {
   "cell_type": "code",
   "execution_count": null,
   "metadata": {},
   "outputs": [],
   "source": [
    "device = torch.device('cuda' if torch.cuda.is_available() else 'cpu')"
   ]
  },
  {
   "cell_type": "code",
   "execution_count": null,
   "metadata": {},
   "outputs": [],
   "source": [
    "train_dataset = MNIST(root='data/', train=True, transform=transforms.ToTensor(), download=True)\n",
    "validation_dataset = MNIST(root='data/', train=False, transform=transforms.ToTensor(), download=True)"
   ]
  },
  {
   "cell_type": "code",
   "execution_count": null,
   "metadata": {},
   "outputs": [],
   "source": [
    "dataloaders = {'train': DataLoader(train_dataset, batch_size=BATCH_SIZE, shuffle=True),\n",
    "               'validation': DataLoader(validation_dataset, batch_size=BATCH_SIZE, shuffle=True)}"
   ]
  },
  {
   "cell_type": "code",
   "execution_count": null,
   "metadata": {},
   "outputs": [],
   "source": [
    "model = torch.load('checkpoints/ae.pt')"
   ]
  },
  {
   "cell_type": "code",
   "execution_count": null,
   "metadata": {},
   "outputs": [],
   "source": [
    "transformToPILImage = transforms.ToPILImage()"
   ]
  },
  {
   "cell_type": "markdown",
   "metadata": {},
   "source": [
    "### Reconstruction of validation set"
   ]
  },
  {
   "cell_type": "code",
   "execution_count": null,
   "metadata": {},
   "outputs": [],
   "source": [
    "@interact(k=(0, len(validation_dataset) - 1))\n",
    "def xxx(k=0):\n",
    "    x, label = validation_dataset[k]\n",
    "    model.eval()\n",
    "    x_hat = model(x.to(device).view(1, 1, 28, 28))\n",
    "\n",
    "    img = transformToPILImage(x.view(1, 28, 28))\n",
    "    img_hat = transformToPILImage(x_hat.cpu().view(1, 28, 28))\n",
    "\n",
    "    plt.subplot(2, 1, 1)\n",
    "    plt.imshow(img, cmap='gray')\n",
    "    plt.subplot(2, 1, 2)\n",
    "    plt.imshow(img_hat, cmap='gray');"
   ]
  },
  {
   "cell_type": "markdown",
   "metadata": {},
   "source": [
    "### Projection of validation set onto latent space"
   ]
  },
  {
   "cell_type": "code",
   "execution_count": null,
   "metadata": {},
   "outputs": [],
   "source": [
    "import matplotlib.cm as cm\n",
    "\n",
    "plt.figure(figsize=(10, 5))\n",
    "xs = []\n",
    "ys = []\n",
    "cs = []\n",
    "\n",
    "for inputs, labels in dataloaders['validation']:\n",
    "    model.eval()\n",
    "    z = model.encoder(inputs.to(device)).detach().cpu().numpy().squeeze()\n",
    "    for (x, y), label in zip(z, labels):\n",
    "        xs.append(x)\n",
    "        ys.append(y)\n",
    "        cs.append(label / 9)\n",
    "\n",
    "plt.scatter(xs, ys, c=cs, cmap=cm.rainbow)"
   ]
  },
  {
   "cell_type": "code",
   "execution_count": null,
   "metadata": {},
   "outputs": [],
   "source": [
    "x_min = np.min(xs)\n",
    "x_max = np.max(xs)\n",
    "y_min = np.min(ys)\n",
    "y_max = np.max(ys)"
   ]
  },
  {
   "cell_type": "code",
   "execution_count": null,
   "metadata": {},
   "outputs": [],
   "source": [
    "xs = np.linspace(x_min, x_max, 15, dtype=np.float32)\n",
    "ys = np.linspace(y_min, y_max, 8, dtype=np.float32)\n",
    "\n",
    "fig, axes = plt.subplots(len(ys), len(xs), figsize=(10, 5))\n",
    "\n",
    "for (x_idx, x) in enumerate(xs):\n",
    "    for (y_idx, y) in enumerate(np.flip(ys)):\n",
    "        z = torch.tensor([x, y]).to(device).unsqueeze(0)\n",
    "        x_hat = model.decoder(z)\n",
    "        img_hat = transformToPILImage(x_hat.cpu().view(1, 28, 28))\n",
    "        axes[y_idx, x_idx].imshow(img_hat, cmap='gray');\n",
    "        axes[y_idx, x_idx].set_axis_off()"
   ]
  },
  {
   "cell_type": "code",
   "execution_count": null,
   "metadata": {},
   "outputs": [],
   "source": [
    "@interact(x=(x_min, x_max, 0.1), y=(y_min, y_max, 0.1))\n",
    "def xx(x=0, y=0):\n",
    "    z = torch.tensor([x, y]).to(device).unsqueeze(0)\n",
    "    x_hat = model.decoder(z)\n",
    "    img_hat = transformToPILImage(x_hat.cpu().view(1, 28, 28))\n",
    "    plt.imshow(img_hat, cmap='gray');"
   ]
  },
  {
   "cell_type": "code",
   "execution_count": null,
   "outputs": [],
   "source": [],
   "metadata": {
    "collapsed": false
   }
  }
 ],
 "metadata": {
  "kernelspec": {
   "display_name": "Python 3 (ipykernel)",
   "language": "python",
   "name": "python3"
  },
  "language_info": {
   "codemirror_mode": {
    "name": "ipython",
    "version": 3
   },
   "file_extension": ".py",
   "mimetype": "text/x-python",
   "name": "python",
   "nbconvert_exporter": "python",
   "pygments_lexer": "ipython3",
   "version": "3.10.9"
  }
 },
 "nbformat": 4,
 "nbformat_minor": 1
}
