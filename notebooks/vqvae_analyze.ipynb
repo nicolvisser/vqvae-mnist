{
 "cells": [
  {
   "cell_type": "code",
   "execution_count": null,
   "metadata": {},
   "outputs": [],
   "source": [
    "%load_ext autoreload\n",
    "%autoreload 2"
   ]
  },
  {
   "cell_type": "code",
   "execution_count": null,
   "metadata": {},
   "outputs": [],
   "source": [
    "import torch\n",
    "from torchvision.datasets import MNIST\n",
    "import torchvision.transforms as transforms\n",
    "from torch.utils.data import DataLoader\n",
    "import matplotlib.pyplot as plt\n",
    "from ipywidgets import interact\n",
    "import numpy as np\n",
    "import matplotlib.cm as cm"
   ]
  },
  {
   "cell_type": "code",
   "execution_count": null,
   "metadata": {},
   "outputs": [],
   "source": [
    "BATCH_SIZE = 512\n",
    "Z_DIM = 2\n",
    "NUM_EMBEDDINGS = 20"
   ]
  },
  {
   "cell_type": "code",
   "execution_count": null,
   "metadata": {},
   "outputs": [],
   "source": [
    "device = torch.device('cuda' if torch.cuda.is_available() else 'cpu')"
   ]
  },
  {
   "cell_type": "code",
   "execution_count": null,
   "metadata": {},
   "outputs": [],
   "source": [
    "train_dataset = MNIST(root='data/', train=True, transform=transforms.ToTensor(), download=True)\n",
    "validation_dataset = MNIST(root='data/', train=False, transform=transforms.ToTensor(), download=True)"
   ]
  },
  {
   "cell_type": "code",
   "execution_count": null,
   "metadata": {},
   "outputs": [],
   "source": [
    "dataloaders = {'train': DataLoader(train_dataset, batch_size=BATCH_SIZE, shuffle=True),\n",
    "               'validation': DataLoader(validation_dataset, batch_size=BATCH_SIZE, shuffle=True)}"
   ]
  },
  {
   "cell_type": "code",
   "execution_count": null,
   "metadata": {},
   "outputs": [],
   "source": [
    "initialise_from = \"vae\" # \"none\" or \"ae\" or \"vae\"\n",
    "initialise_embedding_vectors = \"normal\" # \"uniform\" or \"normal\""
   ]
  },
  {
   "cell_type": "code",
   "execution_count": null,
   "metadata": {},
   "outputs": [],
   "source": [
    "model = torch.load(f'checkpoints/vqvae_from_{initialise_from}_using_{initialise_embedding_vectors}_epoch_10.pt')"
   ]
  },
  {
   "cell_type": "code",
   "execution_count": null,
   "metadata": {},
   "outputs": [],
   "source": [
    "model = torch.load(f'checkpoints/vqvae_from_{initialise_from}_using_{initialise_embedding_vectors}.pt')"
   ]
  },
  {
   "cell_type": "code",
   "execution_count": null,
   "metadata": {},
   "outputs": [],
   "source": [
    "model.to(device)\n",
    "model.eval()"
   ]
  },
  {
   "cell_type": "code",
   "execution_count": null,
   "metadata": {},
   "outputs": [],
   "source": [
    "transformToPILImage = transforms.ToPILImage()"
   ]
  },
  {
   "cell_type": "markdown",
   "metadata": {},
   "source": [
    "## Analysis"
   ]
  },
  {
   "cell_type": "markdown",
   "metadata": {},
   "source": [
    "### Reconstruction of validation set"
   ]
  },
  {
   "cell_type": "code",
   "execution_count": null,
   "metadata": {},
   "outputs": [],
   "source": [
    "@interact(k=(0, len(validation_dataset) - 1))\n",
    "def xxx(k=0):\n",
    "    x, label = validation_dataset[k]\n",
    "    x_hat, _, _ = model(x.to(device).view(1, 1, 28, 28))\n",
    "\n",
    "    img = transformToPILImage(x.view(1, 28, 28))\n",
    "    img_hat = transformToPILImage(x_hat.cpu().view(1, 28, 28))\n",
    "\n",
    "    plt.subplot(2, 1, 1)\n",
    "    plt.imshow(img, cmap='gray')\n",
    "    plt.subplot(2, 1, 2)\n",
    "    plt.imshow(img_hat, cmap='gray');"
   ]
  },
  {
   "cell_type": "markdown",
   "metadata": {},
   "source": [
    "### Reconstruction of discrete embedding vectors"
   ]
  },
  {
   "cell_type": "code",
   "execution_count": null,
   "metadata": {},
   "outputs": [],
   "source": [
    "for k in range(NUM_EMBEDDINGS):\n",
    "    plt.subplot(int(np.ceil(np.sqrt(NUM_EMBEDDINGS))),int(np.floor(np.sqrt(NUM_EMBEDDINGS))),k+1)\n",
    "    x_hat = model.decoder(model.vq.embedding[k].unsqueeze(0))   \n",
    "    img_hat = transformToPILImage(x_hat.view(1, 28, 28))\n",
    "    plt.imshow(img_hat, cmap='gray');\n",
    "    plt.axis('off')"
   ]
  },
  {
   "cell_type": "markdown",
   "metadata": {},
   "source": [
    "### Projection of validation set onto latent space"
   ]
  },
  {
   "cell_type": "markdown",
   "metadata": {},
   "source": [
    "#### Color coded by class labels"
   ]
  },
  {
   "cell_type": "code",
   "execution_count": null,
   "metadata": {},
   "outputs": [],
   "source": [
    "plt.figure()\n",
    "xs = []\n",
    "ys = []\n",
    "cs = []\n",
    "\n",
    "for inputs, labels in dataloaders['validation']:\n",
    "    model.eval()\n",
    "    z = model.encoder(inputs.to(device)).detach().cpu().numpy().squeeze()\n",
    "    for (x, y), label in zip(z, labels):\n",
    "        xs.append(x)\n",
    "        ys.append(y)\n",
    "        cs.append(label / 9)\n",
    "\n",
    "plt.scatter(xs, ys, c=cs, cmap=cm.rainbow)"
   ]
  },
  {
   "cell_type": "code",
   "execution_count": null,
   "metadata": {},
   "outputs": [],
   "source": [
    "#### Color coded by embedding indices"
   ]
  },
  {
   "cell_type": "code",
   "execution_count": null,
   "metadata": {},
   "outputs": [],
   "source": [
    "plt.figure()\n",
    "xs = []\n",
    "ys = []\n",
    "cs = []\n",
    "\n",
    "for inputs, labels in dataloaders['validation']:\n",
    "    model.eval()\n",
    "    z = model.encoder(inputs.to(device))\n",
    "    quantized, indices, _ = model.vq.encode(z.unsqueeze(0))\n",
    "    \n",
    "    z = z.detach().cpu().numpy().squeeze()\n",
    "    indices = indices.detach().cpu().numpy().squeeze()\n",
    "    \n",
    "    for (x, y), label, index in zip(z, labels, indices):\n",
    "        xs.append(x)\n",
    "        ys.append(y)\n",
    "        cs.append(index / 9)\n",
    "\n",
    "plt.scatter(xs, ys, c=cs, cmap=cm.rainbow)\n",
    "\n",
    "for k in range(NUM_EMBEDDINGS):\n",
    "    z = model.vq.embedding[k].cpu().detach().numpy()\n",
    "    x,y = z\n",
    "    plt.scatter(z[0],z[1], color='black');\n",
    "    plt.text(x + 0.05, y + 0.05, k, fontsize=8)\n"
   ]
  },
  {
   "cell_type": "code",
   "execution_count": null,
   "metadata": {},
   "outputs": [],
   "source": [
    "xmin = np.min(xs)\n",
    "xmax = np.max(xs)\n",
    "ymin = np.min(ys)\n",
    "ymax = np.max(ys)"
   ]
  },
  {
   "cell_type": "code",
   "execution_count": null,
   "metadata": {},
   "outputs": [],
   "source": [
    "xs = np.linspace(xmin, xmax, 15, dtype=np.float32)\n",
    "ys = np.linspace(ymin, ymax, 8, dtype=np.float32)\n",
    "\n",
    "fig, axes = plt.subplots(len(ys), len(xs), figsize=(10, 5))\n",
    "\n",
    "for (xidx, x) in enumerate(xs):\n",
    "    for (yidx, y) in enumerate(np.flip(ys)):\n",
    "        z = torch.tensor([x, y]).unsqueeze(0).to(device)\n",
    "        xhat = model.decoder(z)\n",
    "        img_hat = transformToPILImage(xhat.cpu().view(1, 28, 28))\n",
    "        axes[yidx, xidx].imshow(img_hat, cmap='gray');\n",
    "        axes[yidx, xidx].set_axis_off()"
   ]
  },
  {
   "cell_type": "code",
   "execution_count": null,
   "metadata": {},
   "outputs": [],
   "source": [
    "@interact(x=(xmin, xmax, 0.1), y=(ymin, ymax, 0.1))\n",
    "def xx(x=0, y=0):\n",
    "    z = torch.tensor([x, y]).unsqueeze(0).to(device)\n",
    "    xhat = model.decoder(z)\n",
    "    img_hat = transformToPILImage(xhat.cpu().view(1, 28, 28))\n",
    "    plt.imshow(img_hat, cmap='gray');"
   ]
  },
  {
   "cell_type": "code",
   "execution_count": null,
   "metadata": {},
   "outputs": [],
   "source": [
    "from sklearn.metrics import adjusted_rand_score, rand_score, consensus_score"
   ]
  },
  {
   "cell_type": "code",
   "execution_count": null,
   "metadata": {},
   "outputs": [],
   "source": [
    "labels_true = np.array([])\n",
    "labels_pred = np.array([])\n",
    "\n",
    "for inputs, labels in dataloaders['validation']:\n",
    "    labels = labels.cpu().numpy()\n",
    "    indices = model.encode(inputs.to(device)).cpu().numpy()\n",
    "    labels_true = np.append(labels_true, labels)\n",
    "    labels_pred = np.append(labels_pred, indices)"
   ]
  },
  {
   "cell_type": "code",
   "execution_count": null,
   "metadata": {},
   "outputs": [],
   "source": [
    "np.unique(labels_pred)"
   ]
  },
  {
   "cell_type": "code",
   "execution_count": null,
   "metadata": {},
   "outputs": [],
   "source": [
    "rand_score(labels_true,labels_pred)"
   ]
  },
  {
   "cell_type": "code",
   "execution_count": null,
   "metadata": {},
   "outputs": [],
   "source": [
    "adjusted_rand_score(labels_true,labels_pred)"
   ]
  },
  {
   "cell_type": "code",
   "execution_count": null,
   "metadata": {},
   "outputs": [],
   "source": []
  }
 ],
 "metadata": {
  "kernelspec": {
   "display_name": "Python 3 (ipykernel)",
   "language": "python",
   "name": "python3"
  },
  "language_info": {
   "codemirror_mode": {
    "name": "ipython",
    "version": 3
   },
   "file_extension": ".py",
   "mimetype": "text/x-python",
   "name": "python",
   "nbconvert_exporter": "python",
   "pygments_lexer": "ipython3",
   "version": "3.10.9"
  }
 },
 "nbformat": 4,
 "nbformat_minor": 1
}
