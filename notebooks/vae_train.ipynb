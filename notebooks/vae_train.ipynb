{
 "cells": [
  {
   "cell_type": "code",
   "execution_count": null,
   "metadata": {},
   "outputs": [],
   "source": [
    "%load_ext autoreload\n",
    "%autoreload 2"
   ]
  },
  {
   "cell_type": "code",
   "execution_count": null,
   "metadata": {},
   "outputs": [],
   "source": [
    "import torch\n",
    "from torchvision.datasets import MNIST\n",
    "import torchvision.transforms as transforms\n",
    "from torch.utils.data import DataLoader\n",
    "from livelossplot import PlotLosses\n",
    "from tqdm import tqdm\n",
    "from models.foster import VariationalAutoencoder"
   ]
  },
  {
   "cell_type": "code",
   "execution_count": null,
   "outputs": [],
   "source": [
    "BATCH_SIZE = 512\n",
    "LEAKY_RELU_NEGATIVE_SLOPE = 0.1\n",
    "DROPOUT_P = 0.25\n",
    "Z_DIM = 2\n",
    "LEARNING_RATE = 0.005\n",
    "NUM_EPOCHS = 200\n",
    "\n",
    "RECON_LOSS_FACTOR = 500"
   ],
   "metadata": {
    "collapsed": false
   }
  },
  {
   "cell_type": "code",
   "execution_count": null,
   "outputs": [],
   "source": [
    "device = torch.device('cuda' if torch.cuda.is_available() else 'cpu')"
   ],
   "metadata": {
    "collapsed": false
   }
  },
  {
   "cell_type": "code",
   "execution_count": null,
   "metadata": {},
   "outputs": [],
   "source": [
    "train_dataset = MNIST(root='data/', train=True, transform=transforms.ToTensor(), download=True)\n",
    "validation_dataset = MNIST(root='data/', train=False, transform=transforms.ToTensor(), download=True)"
   ]
  },
  {
   "cell_type": "code",
   "execution_count": null,
   "metadata": {},
   "outputs": [],
   "source": [
    "dataloaders = {'train': DataLoader(train_dataset, batch_size=BATCH_SIZE, shuffle=True),\n",
    "               'validation': DataLoader(validation_dataset, batch_size=BATCH_SIZE, shuffle=True)}"
   ]
  },
  {
   "cell_type": "code",
   "execution_count": null,
   "metadata": {},
   "outputs": [],
   "source": [
    "model = VariationalAutoencoder(z_dim=Z_DIM, leaky_relu_negative_slope=LEAKY_RELU_NEGATIVE_SLOPE, dropout_p=DROPOUT_P)\n",
    "\n",
    "#initialize with AE parameters\n",
    "model.encoder.mu_encoder = torch.load('checkpoints/ae_encoder_only.pt')\n",
    "model.decoder = torch.load('checkpoints/ae_decoder_only.pt')\n",
    "\n",
    "model = model.to(device)\n",
    "model(torch.rand(BATCH_SIZE, 1, 28, 28).to(device))  # test forward pass\n",
    "model.summary(input_data=torch.rand((BATCH_SIZE, 1, 28, 28)))  # summarize"
   ]
  },
  {
   "cell_type": "code",
   "execution_count": null,
   "metadata": {},
   "outputs": [],
   "source": [
    "optimizer = torch.optim.Adam(model.parameters(), lr=LEARNING_RATE)\n",
    "#scheduler = torch.optim.lr_scheduler.ExponentialLR(optimizer, gamma=0.9)"
   ]
  },
  {
   "cell_type": "code",
   "execution_count": null,
   "metadata": {},
   "outputs": [],
   "source": [
    "liveloss = PlotLosses()\n",
    "logs = {}\n",
    "for epoch in tqdm(range(NUM_EPOCHS)):\n",
    "    for phase in ['train', 'validation']:\n",
    "        model.train() if phase == 'train' else model.eval()\n",
    "        running_recon_loss = 0.0\n",
    "        running_kl_loss = 0.0\n",
    "        running_loss = 0.0\n",
    "        for inputs, labels in dataloaders[phase]:\n",
    "            inputs = inputs.to(device)\n",
    "            outputs, recon_loss, kl_loss = model(inputs)\n",
    "            recon_loss = recon_loss\n",
    "            loss = RECON_LOSS_FACTOR * recon_loss + kl_loss\n",
    "            if phase == 'train':\n",
    "                optimizer.zero_grad()\n",
    "                loss.backward()\n",
    "                optimizer.step()\n",
    "            running_recon_loss += recon_loss.detach() * inputs.size(0)\n",
    "            running_kl_loss += kl_loss.detach() * inputs.size(0)\n",
    "            running_loss += loss.detach() * inputs.size(0)\n",
    "        epoch_recon_loss = running_recon_loss / len(dataloaders[phase].dataset)\n",
    "        epoch_vq_loss = running_kl_loss / len(dataloaders[phase].dataset)\n",
    "        epoch_loss = running_loss / len(dataloaders[phase].dataset)\n",
    "        prefix = 'val_' if phase == 'validation' else ''\n",
    "        logs[prefix + 'recon_loss'] = epoch_recon_loss.item()\n",
    "        logs[prefix + 'kl_loss'] = epoch_vq_loss.item()\n",
    "        logs[prefix + 'loss'] = epoch_loss.item()\n",
    "    if epoch > 3:\n",
    "        liveloss.update(logs)\n",
    "        liveloss.send()\n",
    "torch.save(model, 'checkpoints/vae.pt')\n",
    "torch.save(model.encoder.mu_encoder, 'checkpoints/vae_mu_encoder_only.pt')\n",
    "torch.save(model.decoder, 'checkpoints/vae_decoder_only.pt')"
   ]
  }
 ],
 "metadata": {
  "kernelspec": {
   "display_name": "Python 3 (ipykernel)",
   "language": "python",
   "name": "python3"
  },
  "language_info": {
   "codemirror_mode": {
    "name": "ipython",
    "version": 3
   },
   "file_extension": ".py",
   "mimetype": "text/x-python",
   "name": "python",
   "nbconvert_exporter": "python",
   "pygments_lexer": "ipython3",
   "version": "3.10.9"
  }
 },
 "nbformat": 4,
 "nbformat_minor": 1
}
