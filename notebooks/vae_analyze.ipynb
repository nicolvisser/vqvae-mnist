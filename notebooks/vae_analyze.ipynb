{
 "cells": [
  {
   "cell_type": "code",
   "execution_count": null,
   "metadata": {},
   "outputs": [],
   "source": [
    "%load_ext autoreload\n",
    "%autoreload 2"
   ]
  },
  {
   "cell_type": "code",
   "execution_count": null,
   "metadata": {},
   "outputs": [],
   "source": [
    "import torch\n",
    "from torchvision.datasets import MNIST\n",
    "import torchvision.transforms as transforms\n",
    "from torch.utils.data import DataLoader\n",
    "import matplotlib.pyplot as plt\n",
    "from ipywidgets import interact\n",
    "import numpy as np\n",
    "import matplotlib.cm as cm"
   ]
  },
  {
   "cell_type": "code",
   "execution_count": null,
   "metadata": {},
   "outputs": [],
   "source": [
    "BATCH_SIZE = 2048\n",
    "Z_DIM = 2"
   ]
  },
  {
   "cell_type": "code",
   "execution_count": null,
   "metadata": {},
   "outputs": [],
   "source": [
    "device = torch.device('cuda' if torch.cuda.is_available() else 'cpu')"
   ]
  },
  {
   "cell_type": "code",
   "execution_count": null,
   "metadata": {},
   "outputs": [],
   "source": [
    "train_dataset = MNIST(root='data/', train=True, transform=transforms.ToTensor(), download=True)\n",
    "validation_dataset = MNIST(root='data/', train=False, transform=transforms.ToTensor(), download=True)"
   ]
  },
  {
   "cell_type": "code",
   "execution_count": null,
   "metadata": {},
   "outputs": [],
   "source": [
    "dataloaders = {'train': DataLoader(train_dataset, batch_size=BATCH_SIZE, shuffle=True),\n",
    "               'validation': DataLoader(validation_dataset, batch_size=BATCH_SIZE, shuffle=True)}"
   ]
  },
  {
   "cell_type": "code",
   "execution_count": null,
   "metadata": {},
   "outputs": [],
   "source": [
    "model = torch.load('checkpoints/vae.pt')\n",
    "model.to(device)\n",
    "model.eval()"
   ]
  },
  {
   "cell_type": "code",
   "execution_count": null,
   "metadata": {},
   "outputs": [],
   "source": [
    "transformToPILImage = transforms.ToPILImage()"
   ]
  },
  {
   "cell_type": "markdown",
   "metadata": {},
   "source": [
    "## Analysis"
   ]
  },
  {
   "cell_type": "markdown",
   "metadata": {},
   "source": [
    "### Reconstruction of validation set"
   ]
  },
  {
   "cell_type": "code",
   "execution_count": null,
   "metadata": {},
   "outputs": [],
   "source": [
    "@interact(k=(0, len(validation_dataset) - 1))\n",
    "def xxx(k=0):\n",
    "    x, label = validation_dataset[k]\n",
    "    z, _ = model.encoder(x.to(device).view(1, 1, 28, 28))\n",
    "    x_hat, _, _ = model(x.to(device).view(1, 1, 28, 28))\n",
    "\n",
    "    print(z)\n",
    "\n",
    "    img = transformToPILImage(x.view(1, 28, 28))\n",
    "    img_hat = transformToPILImage(x_hat.cpu().view(1, 28, 28))\n",
    "\n",
    "    plt.subplot(2, 1, 1)\n",
    "    plt.imshow(img, cmap='gray')\n",
    "    plt.subplot(2, 1, 2)\n",
    "    plt.imshow(img_hat, cmap='gray');"
   ]
  },
  {
   "cell_type": "markdown",
   "metadata": {},
   "source": [
    "### Projection of validation set onto latent space"
   ]
  },
  {
   "cell_type": "code",
   "execution_count": null,
   "metadata": {},
   "outputs": [],
   "source": [
    "\n",
    "\n",
    "plt.figure()\n",
    "xs = []\n",
    "ys = []\n",
    "cs = []\n",
    "\n",
    "for inputs, labels in dataloaders['validation']:\n",
    "    model.eval()\n",
    "    z, _ = model.encoder(inputs.to(device))\n",
    "    z = z.detach().cpu().numpy().squeeze()\n",
    "    for (x, y), label in zip(z, labels):\n",
    "        xs.append(x)\n",
    "        ys.append(y)\n",
    "        cs.append(label / 9)\n",
    "\n",
    "plt.scatter(xs, ys, c=cs, cmap=cm.rainbow)"
   ]
  },
  {
   "cell_type": "code",
   "execution_count": null,
   "metadata": {},
   "outputs": [],
   "source": [
    "xmin = np.min(xs)\n",
    "xmax = np.max(xs)\n",
    "ymin = np.min(ys)\n",
    "ymax = np.max(ys)"
   ]
  },
  {
   "cell_type": "code",
   "execution_count": null,
   "metadata": {},
   "outputs": [],
   "source": [
    "xs = np.linspace(xmin, xmax, 15, dtype=np.float32)\n",
    "ys = np.linspace(ymin, ymax, 8, dtype=np.float32)\n",
    "\n",
    "fig, axes = plt.subplots(len(ys), len(xs), figsize=(10, 5))\n",
    "\n",
    "for (xidx, x) in enumerate(xs):\n",
    "    for (yidx, y) in enumerate(np.flip(ys)):\n",
    "        z = torch.tensor([x, y]).unsqueeze(0).to(device)\n",
    "        xhat = model.decoder(z)\n",
    "        img_hat = transformToPILImage(xhat.cpu().view(1, 28, 28))\n",
    "        axes[yidx, xidx].imshow(img_hat, cmap='gray');\n",
    "        axes[yidx, xidx].set_axis_off()"
   ]
  },
  {
   "cell_type": "code",
   "execution_count": null,
   "metadata": {},
   "outputs": [],
   "source": [
    "@interact(x=(xmin, xmax, 0.001), y=(ymin, ymax, 0.001))\n",
    "def xx(x=0, y=0):\n",
    "    z = torch.tensor([x, y]).unsqueeze(0).to(device)\n",
    "    xhat = model.decoder(z)\n",
    "    img_hat = transformToPILImage(xhat.cpu().view(1, 28, 28))\n",
    "    plt.imshow(img_hat, cmap='gray');"
   ]
  },
  {
   "cell_type": "code",
   "execution_count": null,
   "metadata": {},
   "outputs": [],
   "source": [
    "@interact(mu_x=(xmin, xmax, 0.01), mu_y=(ymin, ymax, 0.01), var_x=(0, 1, 0.01), var_y=(0, 1, 0.01))\n",
    "def xx(mu_x=0, mu_y=0, var_x = 0, var_y = 0):\n",
    "    mu = torch.tensor([mu_x, mu_y])\n",
    "    log_var = torch.log(torch.tensor([var_x, var_y]))\n",
    "    z = mu + torch.exp(log_var / 2) * torch.randn_like(mu)\n",
    "    xhat = model.decoder(z.to(device).view(1,2))\n",
    "    img_hat = transformToPILImage(xhat.cpu().view(1, 28, 28))\n",
    "    plt.imshow(img_hat, cmap='gray');"
   ]
  },
  {
   "cell_type": "code",
   "execution_count": null,
   "metadata": {},
   "outputs": [],
   "source": [
    "for i in range(10*10):\n",
    "    plt.subplot(10,10,i+1)\n",
    "    z = torch.randn(1,2).to(device)\n",
    "    xhat = model.decoder(z)\n",
    "    img_hat = transformToPILImage(xhat.cpu().view(1, 28, 28))\n",
    "    plt.imshow(img_hat, cmap='gray');\n",
    "    plt.axis('off')"
   ]
  },
  {
   "cell_type": "code",
   "execution_count": null,
   "metadata": {},
   "outputs": [],
   "source": []
  }
 ],
 "metadata": {
  "kernelspec": {
   "display_name": "Python 3 (ipykernel)",
   "language": "python",
   "name": "python3"
  },
  "language_info": {
   "codemirror_mode": {
    "name": "ipython",
    "version": 3
   },
   "file_extension": ".py",
   "mimetype": "text/x-python",
   "name": "python",
   "nbconvert_exporter": "python",
   "pygments_lexer": "ipython3",
   "version": "3.10.9"
  }
 },
 "nbformat": 4,
 "nbformat_minor": 1
}
